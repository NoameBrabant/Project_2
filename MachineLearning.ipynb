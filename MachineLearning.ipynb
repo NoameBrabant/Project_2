{
 "cells": [
  {
   "cell_type": "code",
   "execution_count": 2,
   "metadata": {},
   "outputs": [],
   "source": [
    "import pandas as pd\n",
    "import numpy as np\n",
    "from sklearn.compose import ColumnTransformer\n",
    "from sklearn.pipeline import Pipeline\n",
    "from sklearn.preprocessing import StandardScaler\n",
    "from sklearn.neighbors import NearestNeighbors\n",
    "from datetime import date\n",
    "from datetime import datetime\n",
    "from sklearn.preprocessing import OneHotEncoder, OrdinalEncoder, MultiLabelBinarizer\n",
    "from sklearn.base import BaseEstimator, TransformerMixin\n",
    "from sklearn.utils.validation import check_array\n",
    "import re"
   ]
  },
  {
   "cell_type": "code",
   "execution_count": null,
   "metadata": {},
   "outputs": [],
   "source": [
    "df_movie = pd.read_parquet(\"dataframes\\df_movie.parquet\")\n",
    "pd.set_option('display.max_columns', None)\n",
    "df_movie.head(3)"
   ]
  },
  {
   "cell_type": "code",
   "execution_count": 4,
   "metadata": {},
   "outputs": [],
   "source": [
    "numeric_cols = ['popularity_movie', 'vote_average', 'vote_count','popularity_director']\n",
    "\n",
    "\n",
    "categorical_cols = ['original_language', 'name_director', 'Publique cible', 'Epoque',\n",
    "                    'Sujet principal', 'Type', 'actor_name_1', 'actor_name_2', 'actor_name_3', 'actor_name_4', 'actor_name_5']\n",
    "\n",
    "\n",
    "binarizer_cols = ['genre']\n",
    "\n",
    "date_cols = ['release_date']"
   ]
  },
  {
   "cell_type": "code",
   "execution_count": 5,
   "metadata": {},
   "outputs": [],
   "source": [
    "# Custom transformer for MultiLabelBinarizer\n",
    "class MultiLabelBinarizerPipelineFriendly(BaseEstimator, TransformerMixin):\n",
    "    def __init__(self):\n",
    "        self.mlb = MultiLabelBinarizer()\n",
    "\n",
    "    def fit(self, X, y=None):\n",
    "        self.mlb.fit(X)\n",
    "        return self\n",
    "\n",
    "    def transform(self, X):\n",
    "        return self.mlb.transform(X)\n",
    "\n",
    "    def get_feature_names_out(self, input_features=None):\n",
    "        return self.mlb.classes_"
   ]
  },
  {
   "cell_type": "code",
   "execution_count": 6,
   "metadata": {},
   "outputs": [],
   "source": [
    "numeric_transformer = Pipeline(steps=[\n",
    "    ('scaler', StandardScaler())\n",
    "])\n",
    "\n",
    "categorical_transformer = Pipeline(steps=[\n",
    "    ('onehot', OneHotEncoder(handle_unknown='ignore'))\n",
    "])\n",
    "\n",
    "date_transformer = Pipeline(steps=[\n",
    "    ('date', OrdinalEncoder())\n",
    "])\n",
    "\n",
    "# On combine tout dans un ColumnTransformer\n",
    "preprocessor = ColumnTransformer(\n",
    "    transformers=[\n",
    "        ('num', numeric_transformer, numeric_cols),\n",
    "        ('cat', categorical_transformer, categorical_cols),\n",
    "        ('genres', MultiLabelBinarizerPipelineFriendly(), 'genre'),\n",
    "        ('date', date_transformer, date_cols)\n",
    "    ]\n",
    ")\n",
    "\n",
    "pipeline = Pipeline(steps=[\n",
    "    ('preprocessor', preprocessor)\n",
    "])"
   ]
  },
  {
   "cell_type": "code",
   "execution_count": 8,
   "metadata": {},
   "outputs": [],
   "source": [
    "# Transformation des données\n",
    "processed_data = pipeline.fit_transform(df_movie)\n",
    "\n",
    "# Affichage des données transformées\n",
    "transformed_df = pd.DataFrame(processed_data.todense(), columns=pipeline[\"preprocessor\"].get_feature_names_out())"
   ]
  },
  {
   "cell_type": "code",
   "execution_count": 9,
   "metadata": {},
   "outputs": [],
   "source": [
    "# Initialisation du modèle KNN\n",
    "knn_model = NearestNeighbors(n_neighbors=6, metric='manhattan')  # 5 voisins les plus proches hormis le point de référence lui meme\n",
    "model = knn_model.fit(processed_data)"
   ]
  },
  {
   "cell_type": "code",
   "execution_count": 10,
   "metadata": {},
   "outputs": [],
   "source": [
    "# Exemple de recommandation pour un item\n",
    "def recommend_similar_films(title, \n",
    "                              data: pd.DataFrame=processed_data, \n",
    "                              model: NearestNeighbors=knn_model, \n",
    "                              original_data: pd.DataFrame=df_movie, \n",
    "                              n_neighbors: int=6) -> tuple[list[float], list[float]]:\n",
    "    \"\"\"\n",
    "    Trouve les n éléments les plus proches pour un élément donné.\n",
    "\n",
    "    Args:\n",
    "        title: le titre d'un film\n",
    "        data: Données transformées utilisées pour KNN = df processed data\n",
    "        model: Modèle KNN pré-entraîné.\n",
    "        original_data: Données originales (pour affichage) = df movies\n",
    "        n_neighbors: Nombre de voisins à recommander = 6 pour avoir 5 recommandations\n",
    "\n",
    "    Returns:\n",
    "        films similaires: Indices et distances des filmes similaires.\n",
    "    \"\"\"\n",
    "    index = original_data[original_data['title'] == title].index[0] # l'indice du filme recherché \n",
    "    distances, indices = model.kneighbors(data[index], n_neighbors=n_neighbors) \n",
    "    \n",
    "    indices = indices[0][1:]\n",
    "    id_movie = [int(original_data.loc[i, 'id_movie']) for i in indices] \n",
    "    return id_movie\n"
   ]
  },
  {
   "cell_type": "code",
   "execution_count": 14,
   "metadata": {},
   "outputs": [
    {
     "data": {
      "text/plain": [
       "[6691, 2266, 6615, 206408, 583268]"
      ]
     },
     "execution_count": 14,
     "metadata": {},
     "output_type": "execute_result"
    }
   ],
   "source": [
    "recommend_similar_films(\"Jeux d'enfants\")"
   ]
  }
 ],
 "metadata": {
  "kernelspec": {
   "display_name": "Python 3",
   "language": "python",
   "name": "python3"
  },
  "language_info": {
   "codemirror_mode": {
    "name": "ipython",
    "version": 3
   },
   "file_extension": ".py",
   "mimetype": "text/x-python",
   "name": "python",
   "nbconvert_exporter": "python",
   "pygments_lexer": "ipython3",
   "version": "3.12.6"
  }
 },
 "nbformat": 4,
 "nbformat_minor": 2
}
